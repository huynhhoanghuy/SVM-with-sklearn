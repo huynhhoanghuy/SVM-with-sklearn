{
 "cells": [
  {
   "cell_type": "code",
   "execution_count": 1,
   "metadata": {},
   "outputs": [],
   "source": [
    "import numpy as np\n",
    "import pickle\n",
    "import gzip\n",
    "import matplotlib.pyplot as plt\n",
    "from sklearn.svm import LinearSVC, SVC\n",
    "import time"
   ]
  },
  {
   "cell_type": "code",
   "execution_count": 2,
   "metadata": {},
   "outputs": [],
   "source": [
    "def read_mnist(mnist_file):\n",
    "    \"\"\"\n",
    "    Reads MNIST data.\n",
    "    \n",
    "    Parameters\n",
    "    ----------\n",
    "    mnist_file : string\n",
    "        The name of the MNIST file (e.g., 'mnist.pkl.gz').\n",
    "    \n",
    "    Returns\n",
    "    -------\n",
    "    (train_X, train_Y, val_X, val_Y, test_X, test_Y) : tuple\n",
    "        train_X : numpy array, shape (N=50000, d=784)\n",
    "            Input vectors of the training set.\n",
    "        train_Y: numpy array, shape (N=50000)\n",
    "            Outputs of the training set.\n",
    "        val_X : numpy array, shape (N=10000, d=784)\n",
    "            Input vectors of the validation set.\n",
    "        val_Y: numpy array, shape (N=10000)\n",
    "            Outputs of the validation set.\n",
    "        test_X : numpy array, shape (N=10000, d=784)\n",
    "            Input vectors of the test set.\n",
    "        test_Y: numpy array, shape (N=10000)\n",
    "            Outputs of the test set.\n",
    "    \"\"\"\n",
    "    f = gzip.open(mnist_file, 'rb')\n",
    "    train_data, val_data, test_data = pickle.load(f, encoding='latin1')\n",
    "    f.close()\n",
    "    \n",
    "    train_X, train_Y = train_data\n",
    "    val_X, val_Y = val_data\n",
    "    test_X, test_Y = test_data    \n",
    "    \n",
    "    return train_X, train_Y, val_X, val_Y, test_X, test_Y"
   ]
  },
  {
   "cell_type": "markdown",
   "metadata": {},
   "source": [
    "#### Hàm chạy trên bộ test với kernel = \"rbf\", best_C = 10 và best_gamma = 0.01 (cặp tham số có độ lỗi validation nhỏ nhất)"
   ]
  },
  {
   "cell_type": "code",
   "execution_count": 3,
   "metadata": {},
   "outputs": [
    {
     "name": "stdout",
     "output_type": "stream",
     "text": [
      "Test with best model: kernel =  rbf , C =  10 , gamma =  0.01\n",
      "\n",
      "Training\n",
      "\n",
      "Running time:  344.5836730003357\n",
      "\n",
      "Predicting\n",
      "\n",
      "Calculate error\n",
      "\n",
      "Test error rate:  1.7999999999999998 %\n"
     ]
    }
   ],
   "source": [
    "train_X, train_Y, val_X, val_Y, test_X, test_Y = read_mnist('mnist.pkl.gz')\n",
    "ker = 'rbf'\n",
    "best_C = 10\n",
    "best_gamma = 0.01\n",
    "\n",
    "print(\"Test with best model: kernel = \", ker,\", C = \", best_C,\", gamma = \", best_gamma)\n",
    "clf = SVC(kernel = ker, C = best_C, gamma = best_gamma)\n",
    "print(\"\\nTraining\")\n",
    "first_time = time.time()\n",
    "clf.fit(train_X, train_Y)\n",
    "run_time = time.time() - first_time\n",
    "print(\"\\nRunning time: \",run_time)\n",
    "\n",
    "print(\"\\nPredicting\")\n",
    "test_pred = clf.predict(test_X)\n",
    "\n",
    "print(\"\\nCalculate error\")\n",
    "test_error = np.mean(test_pred != test_Y)\n",
    "\n",
    "print(\"\\nTest error rate: \", test_error * 100,\"%\")"
   ]
  }
 ],
 "metadata": {
  "kernelspec": {
   "display_name": "Python 3",
   "language": "python",
   "name": "python3"
  },
  "language_info": {
   "codemirror_mode": {
    "name": "ipython",
    "version": 3
   },
   "file_extension": ".py",
   "mimetype": "text/x-python",
   "name": "python",
   "nbconvert_exporter": "python",
   "pygments_lexer": "ipython3",
   "version": "3.7.1"
  }
 },
 "nbformat": 4,
 "nbformat_minor": 2
}
